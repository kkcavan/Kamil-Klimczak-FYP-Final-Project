{
 "cells": [
  {
   "cell_type": "code",
   "execution_count": 1,
   "metadata": {},
   "outputs": [],
   "source": [
    "import os\n",
    "from sklearn import metrics\n",
    "import pandas as pd \n",
    "import seaborn as sns \n",
    "import matplotlib.pyplot as plt \n",
    "from sklearn.ensemble import IsolationForest\n",
    "from sklearn.metrics import f1_score, balanced_accuracy_score, roc_auc_score, precision_recall_fscore_support, classification_report\n",
    "\n",
    "from sklearn.metrics import confusion_matrix, accuracy_score\n",
    "from sklearn.metrics import average_precision_score, matthews_corrcoef\n",
    "import warnings\n",
    "warnings.filterwarnings('ignore')"
   ]
  },
  {
   "cell_type": "markdown",
   "metadata": {},
   "source": [
    "# Import data"
   ]
  },
  {
   "cell_type": "code",
   "execution_count": 2,
   "metadata": {},
   "outputs": [
    {
     "name": "stdout",
     "output_type": "stream",
     "text": [
      "a:\\Desktop\\FYP Final Files\\notebooks\\Preprocessing\n"
     ]
    }
   ],
   "source": [
    "print(os.getcwd())\n",
    "relative_path = os.path.abspath(os.path.join(os.getcwd(), \"../../\"))\n",
    "train_df = pd.read_csv(relative_path+'/data/labelled_training_data.csv')\n",
    "test_df = pd.read_csv(relative_path+'/data/labelled_testing_data.csv')\n",
    "validation_df = pd.read_csv(relative_path+'/data/labelled_validation_data.csv')"
   ]
  },
  {
   "cell_type": "code",
   "execution_count": 4,
   "metadata": {},
   "outputs": [
    {
     "data": {
      "text/plain": [
       "array(['close', 'sh', 'run-parts', 'atd', 'systemd-logind', 'systemd',\n",
       "       'systemd-journal', 'dbus-daemon', '(time-dir)', 'systemd-user-ru',\n",
       "       'docker', 'systemd-resolve', 'dockerd', 'containerd-shim',\n",
       "       'amazon-ssm-agen', 'ps', 'cron', 'snapd', 'systemd-network',\n",
       "       'journal-offline', 'kworker/dying', 'ssm-agent-worke',\n",
       "       'packagekitd', 'gdbus', 'gmain', '(tmpfiles)', 'systemd-tmpfile',\n",
       "       'kworker/u30:1', 'poweroff', '(sd-sync)', 'kworker/u30:0',\n",
       "       'kworker/u30:2', 'systemd-timesyn', 'systemd-udevd', '(sd-pam)',\n",
       "       'sshd'], dtype=object)"
      ]
     },
     "execution_count": 4,
     "metadata": {},
     "output_type": "execute_result"
    }
   ],
   "source": [
    "train_df.processName.unique()"
   ]
  },
  {
   "cell_type": "code",
   "execution_count": 5,
   "metadata": {},
   "outputs": [
    {
     "data": {
      "text/plain": [
       "array(['systemd-resolve', 'systemd-network', 'systemd', 'sshd',\n",
       "       'systemd-journal', 'dbus-daemon', 'systemd-logind',\n",
       "       'systemd-udevd', 'docker', 'dockerd', 'cron', 'systemd-timesyn',\n",
       "       '(sd-pam)', '(time-dir)', 'systemd-user-ru', 'containerd-shim',\n",
       "       'amazon-ssm-agen', 'ps', 'snapd', 'journal-offline',\n",
       "       'kworker/dying', 'ssm-agent-worke', 'packagekitd', 'gmain',\n",
       "       'gdbus', 'kworker/u30:2', 'poweroff', '(sd-sync)', 'kworker/u30:3',\n",
       "       'accounts-daemon', 'acpid', '(activate)'], dtype=object)"
      ]
     },
     "execution_count": 5,
     "metadata": {},
     "output_type": "execute_result"
    }
   ],
   "source": [
    "validation_df.processName.unique()"
   ]
  },
  {
   "cell_type": "code",
   "execution_count": 3,
   "metadata": {},
   "outputs": [
    {
     "data": {
      "text/plain": [
       "array(['systemd-resolve', 'systemd-network', 'systemd', 'sshd',\n",
       "       'systemd-journal', 'dbus-daemon', 'systemd-logind', 'docker',\n",
       "       'cron', '(sd-pam)', '(time-dir)', 'systemd-user-ru',\n",
       "       'containerd-shim', 'amazon-ssm-agen', 'ps', 'snapd',\n",
       "       'journal-offline', 'kworker/dying', 'ssm-agent-worke',\n",
       "       'packagekitd', 'gmain', 'gdbus', '(systemd)', '(sd-executor)',\n",
       "       '(direxec)', '30-systemd-envi', '(ystemctl)', 'systemctl', 'sh',\n",
       "       'env', 'run-parts', '00-header', 'uname', '10-help-text',\n",
       "       '50-landscape-sy', 'grep', 'bc', 'cut', 'date', 'landscape-sysin',\n",
       "       'who', '50-motd-news', 'cat', 'head', 'tr', '85-fwupd',\n",
       "       '90-updates-avai', 'find', '91-release-upgr', 'lsb_release', 'id',\n",
       "       'release-upgrade', 'stat', 'expr', '92-unattended-u',\n",
       "       'update-motd-una', '95-hwe-eol', 'update-motd-hwe',\n",
       "       'systemd-detect-', 'apt-config', 'dpkg', 'dirname', 'mktemp',\n",
       "       'hwe-support-sta', 'mv', 'rm', '97-overlayroot', 'egrep', 'sort',\n",
       "       '98-fsck-at-rebo', 'update-motd-fsc', 'awk', '98-reboot-requi',\n",
       "       'update-motd-reb', 'wc', 'bash', 'passwd', 'free', 'which', 'ls',\n",
       "       'crontab', 'w', 'top', 'lscpu', 'sftp-server', 'sleep', 'whoami',\n",
       "       'base64', 'mkdir', 'tar', 'gzip', 'nohup', 'tsm', 'readlink',\n",
       "       'thread-pool-4', 'thread-pool-5', 'thread-pool-3', 'thread-pool-6',\n",
       "       'thread-pool-2', 'thread-pool-7', 'thread-pool-1', 'thread-pool-8',\n",
       "       'thread-pool-9', 'thread-pool-10', 'thread-pool-11',\n",
       "       'thread-pool-12', 'thread-pool-13', 'thread-pool-14',\n",
       "       'thread-pool-15', 'thread-pool-16', 'thread-pool-0',\n",
       "       'thread-pool-17', 'thread-pool-18', 'thread-pool-19',\n",
       "       'thread-pool-20', 'thread-pool-21', 'thread-pool-22',\n",
       "       'thread-pool-23', 'thread-pool-24', 'thread-pool-25',\n",
       "       'thread-pool-26', 'thread-pool-27', 'thread-pool-28',\n",
       "       'thread-pool-29', 'thread-pool-30', 'thread-pool-31',\n",
       "       'thread-pool-32', 'thread-pool-33', 'thread-pool-34',\n",
       "       'thread-pool-35', 'thread-pool-36', 'thread-pool-37',\n",
       "       'thread-pool-38', 'thread-pool-43', 'thread-pool-42',\n",
       "       'thread-pool-44', 'thread-pool-45', 'thread-pool-41',\n",
       "       'thread-pool-46', 'thread-pool-40', 'thread-pool-47',\n",
       "       'thread-pool-48', 'thread-pool-49', 'thread-pool-50',\n",
       "       'thread-pool-51', 'thread-pool-52', 'thread-pool-53',\n",
       "       'thread-pool-54', 'thread-pool-55', 'thread-pool-39',\n",
       "       'thread-pool-56', 'thread-pool-57', 'thread-pool-58',\n",
       "       'thread-pool-59', 'thread-pool-60', 'thread-pool-61',\n",
       "       'thread-pool-62', 'thread-pool-63', 'thread-pool-64',\n",
       "       'thread-pool-65', 'thread-pool-66', 'thread-pool-67',\n",
       "       'thread-pool-68', 'thread-pool-69', 'thread-pool-70',\n",
       "       'thread-pool-71', 'thread-pool-72', 'thread-pool-73',\n",
       "       'thread-pool-74', 'thread-pool-75', 'thread-pool-76',\n",
       "       'thread-pool-77', 'thread-pool-78', 'thread-pool-79',\n",
       "       'thread-pool-80', 'thread-pool-81', 'thread-pool-82',\n",
       "       'thread-pool-83', 'thread-pool-84', 'thread-pool-85',\n",
       "       'thread-pool-86', 'thread-pool-87', 'thread-pool-88',\n",
       "       'thread-pool-89', 'thread-pool-90', 'thread-pool-91',\n",
       "       'thread-pool-92', 'thread-pool-93', 'thread-pool-94',\n",
       "       'thread-pool-95', 'thread-pool-96', 'thread-pool-97',\n",
       "       'thread-pool-98', 'thread-pool-99', 'thread-pool-100',\n",
       "       'thread-pool-101', 'thread-pool-106', 'thread-pool-105',\n",
       "       'thread-pool-107', 'thread-pool-108', 'thread-pool-104',\n",
       "       'thread-pool-109', 'thread-pool-110', 'thread-pool-103',\n",
       "       'thread-pool-111', 'thread-pool-112', 'thread-pool-113',\n",
       "       'thread-pool-114', 'thread-pool-115', 'thread-pool-116',\n",
       "       'thread-pool-117', 'thread-pool-118', 'thread-pool-102',\n",
       "       'thread-pool-119', 'thread-pool-120', 'thread-pool-121',\n",
       "       'thread-pool-122', 'thread-pool-123', 'thread-pool-124',\n",
       "       'thread-pool-125', 'thread-pool-126', 'thread-pool-127',\n",
       "       'thread-pool-128', 'thread-pool-129', 'thread-pool-130',\n",
       "       'thread-pool-131', 'thread-pool-132', 'thread-pool-133',\n",
       "       'thread-pool-134', 'thread-pool-135', 'thread-pool-136',\n",
       "       'thread-pool-137', 'thread-pool-138', 'thread-pool-139',\n",
       "       'thread-pool-140', 'thread-pool-141', 'thread-pool-142',\n",
       "       'thread-pool-143', 'thread-pool-144', 'thread-pool-145',\n",
       "       'thread-pool-146', 'thread-pool-147', 'thread-pool-148',\n",
       "       'thread-pool-149'], dtype=object)"
      ]
     },
     "execution_count": 3,
     "metadata": {},
     "output_type": "execute_result"
    }
   ],
   "source": [
    "test_df.processName.unique()"
   ]
  },
  {
   "cell_type": "markdown",
   "metadata": {},
   "source": [
    "# Helpers"
   ]
  },
  {
   "cell_type": "code",
   "execution_count": 4,
   "metadata": {},
   "outputs": [],
   "source": [
    "def prepare_dataset_no_split(df: pd.DataFrame) -> pd.DataFrame:\n",
    "    \"\"\"\n",
    "    Funcction that takes in a DataFrame and returns a modified DataFrame including data processing as stated by the author of https://www.gatsby.ucl.ac.uk/~balaji/udl2021/accepted-papers/UDL2021-paper-033.pdf\n",
    "    \"\"\"\n",
    "    \n",
    "    df[\"processId\"] = df[\"processId\"].map(lambda x: 0 if x in [0, 1, 2] else 1)  # Map to OS/not OS\n",
    "    df[\"parentProcessId\"] = df[\"parentProcessId\"].map(lambda x: 0 if x in [0, 1, 2] else 1)  # Map to OS/not OS\n",
    "    df[\"userId\"] = df[\"userId\"].map(lambda x: 0 if x < 1000 else 1)  # Map to OS/not OS\n",
    "    df[\"mountNamespace\"] = df[\"mountNamespace\"].map(lambda x: 0 if x == 4026531840 else 1)  # Map to mount access to mnt/ (all non-OS users) /elsewhere\n",
    "    df[\"eventId\"] = df[\"eventId\"]  # Keep eventId values (requires knowing max value)\n",
    "    df[\"returnValue\"] = df[\"returnValue\"].map(lambda x: 0 if x == 0 else (1 if x > 0 else 2))  # Map to success/success with value/error\n",
    "    \n",
    "    df = df[[\"processId\", \"parentProcessId\", \"userId\", \"mountNamespace\", \"eventId\", \"argsNum\", \"returnValue\",'System_Core','Amazon_AWS','Container_Virtualization','Maintenance_Package_Management','Security_Monitoring','Utility_Misc','sus','evil']]\n",
    "    return df"
   ]
  },
  {
   "cell_type": "code",
   "execution_count": 5,
   "metadata": {},
   "outputs": [],
   "source": [
    "def one_hot_process_names(dataset, process_name_column='processName'):\n",
    "    # Defining the groupings \n",
    "    groupings = {\n",
    "        'System_Core': ['systemd', 'systemd-logind', 'systemd-journal', 'systemd-user-ru',\n",
    "                        'systemd-resolve', 'systemd-network', 'systemd-timesyn', 'systemd-udevd',\n",
    "                        'dbus-daemon', 'cron', 'kworker/dying', 'kworker/u30:1', 'kworker/u30:0',\n",
    "                        'kworker/u30:2', '(sd-pam)','close'],\n",
    "\n",
    "        'Amazon_AWS': ['amazon-ssm-agen', 'ssm-agent-worke'],\n",
    "\n",
    "        'Container_Virtualization': ['docker', 'dockerd', 'containerd-shim'],\n",
    "        \n",
    "        'Maintenance_Package_Management': ['run-parts', 'atd', 'snapd', 'packagekitd',\n",
    "                                           'systemd-tmpfile', '(tmpfiles)'],\n",
    "\n",
    "        'Security_Monitoring': ['sshd'],\n",
    "\n",
    "        'Utility_Misc': ['sh', 'ps', 'gdbus', 'gmain', 'journal-offline', '(time-dir)',\n",
    "                         '(sd-sync)', 'poweroff']\n",
    "    }\n",
    "\n",
    "    # Create one-hot encoding for each group\n",
    "    for group_name, processes in groupings.items():\n",
    "        dataset[group_name] = dataset[process_name_column].apply(lambda x: 1 if x in processes else 0)\n",
    "    return dataset"
   ]
  },
  {
   "cell_type": "markdown",
   "metadata": {},
   "source": [
    "## Apply preprocessing to datasets"
   ]
  },
  {
   "cell_type": "code",
   "execution_count": 5,
   "metadata": {},
   "outputs": [],
   "source": [
    "train_df = one_hot_process_names(train_df)\n",
    "test_df = one_hot_process_names(test_df)\n",
    "validation_df = one_hot_process_names(validation_df)"
   ]
  },
  {
   "cell_type": "code",
   "execution_count": 14,
   "metadata": {},
   "outputs": [
    {
     "ename": "KeyError",
     "evalue": "\"['System_Core', 'Amazon_AWS', 'Container_Virtualization', 'Maintenance_Package_Management', 'Security_Monitoring', 'Utility_Misc'] not in index\"",
     "output_type": "error",
     "traceback": [
      "\u001b[1;31m---------------------------------------------------------------------------\u001b[0m",
      "\u001b[1;31mKeyError\u001b[0m                                  Traceback (most recent call last)",
      "Cell \u001b[1;32mIn[14], line 1\u001b[0m\n\u001b[1;32m----> 1\u001b[0m train_df\u001b[38;5;241m=\u001b[39m prepare_dataset_no_split(train_df)\n\u001b[0;32m      2\u001b[0m test_df\u001b[38;5;241m=\u001b[39m prepare_dataset_no_split(test_df)\n\u001b[0;32m      3\u001b[0m validation_df \u001b[38;5;241m=\u001b[39m prepare_dataset_no_split(validation_df)\n",
      "Cell \u001b[1;32mIn[4], line 13\u001b[0m, in \u001b[0;36mprepare_dataset_no_split\u001b[1;34m(df)\u001b[0m\n\u001b[0;32m     10\u001b[0m df[\u001b[38;5;124m\"\u001b[39m\u001b[38;5;124meventId\u001b[39m\u001b[38;5;124m\"\u001b[39m] \u001b[38;5;241m=\u001b[39m df[\u001b[38;5;124m\"\u001b[39m\u001b[38;5;124meventId\u001b[39m\u001b[38;5;124m\"\u001b[39m]  \u001b[38;5;66;03m# Keep eventId values (requires knowing max value)\u001b[39;00m\n\u001b[0;32m     11\u001b[0m df[\u001b[38;5;124m\"\u001b[39m\u001b[38;5;124mreturnValue\u001b[39m\u001b[38;5;124m\"\u001b[39m] \u001b[38;5;241m=\u001b[39m df[\u001b[38;5;124m\"\u001b[39m\u001b[38;5;124mreturnValue\u001b[39m\u001b[38;5;124m\"\u001b[39m]\u001b[38;5;241m.\u001b[39mmap(\u001b[38;5;28;01mlambda\u001b[39;00m x: \u001b[38;5;241m0\u001b[39m \u001b[38;5;28;01mif\u001b[39;00m x \u001b[38;5;241m==\u001b[39m \u001b[38;5;241m0\u001b[39m \u001b[38;5;28;01melse\u001b[39;00m (\u001b[38;5;241m1\u001b[39m \u001b[38;5;28;01mif\u001b[39;00m x \u001b[38;5;241m>\u001b[39m \u001b[38;5;241m0\u001b[39m \u001b[38;5;28;01melse\u001b[39;00m \u001b[38;5;241m2\u001b[39m))  \u001b[38;5;66;03m# Map to success/success with value/error\u001b[39;00m\n\u001b[1;32m---> 13\u001b[0m df \u001b[38;5;241m=\u001b[39m df[[\u001b[38;5;124m\"\u001b[39m\u001b[38;5;124mprocessId\u001b[39m\u001b[38;5;124m\"\u001b[39m, \u001b[38;5;124m\"\u001b[39m\u001b[38;5;124mparentProcessId\u001b[39m\u001b[38;5;124m\"\u001b[39m, \u001b[38;5;124m\"\u001b[39m\u001b[38;5;124muserId\u001b[39m\u001b[38;5;124m\"\u001b[39m, \u001b[38;5;124m\"\u001b[39m\u001b[38;5;124mmountNamespace\u001b[39m\u001b[38;5;124m\"\u001b[39m, \u001b[38;5;124m\"\u001b[39m\u001b[38;5;124meventId\u001b[39m\u001b[38;5;124m\"\u001b[39m, \u001b[38;5;124m\"\u001b[39m\u001b[38;5;124margsNum\u001b[39m\u001b[38;5;124m\"\u001b[39m, \u001b[38;5;124m\"\u001b[39m\u001b[38;5;124mreturnValue\u001b[39m\u001b[38;5;124m\"\u001b[39m,\u001b[38;5;124m'\u001b[39m\u001b[38;5;124mSystem_Core\u001b[39m\u001b[38;5;124m'\u001b[39m,\u001b[38;5;124m'\u001b[39m\u001b[38;5;124mAmazon_AWS\u001b[39m\u001b[38;5;124m'\u001b[39m,\u001b[38;5;124m'\u001b[39m\u001b[38;5;124mContainer_Virtualization\u001b[39m\u001b[38;5;124m'\u001b[39m,\u001b[38;5;124m'\u001b[39m\u001b[38;5;124mMaintenance_Package_Management\u001b[39m\u001b[38;5;124m'\u001b[39m,\u001b[38;5;124m'\u001b[39m\u001b[38;5;124mSecurity_Monitoring\u001b[39m\u001b[38;5;124m'\u001b[39m,\u001b[38;5;124m'\u001b[39m\u001b[38;5;124mUtility_Misc\u001b[39m\u001b[38;5;124m'\u001b[39m,\u001b[38;5;124m'\u001b[39m\u001b[38;5;124msus\u001b[39m\u001b[38;5;124m'\u001b[39m,\u001b[38;5;124m'\u001b[39m\u001b[38;5;124mevil\u001b[39m\u001b[38;5;124m'\u001b[39m]]\n\u001b[0;32m     14\u001b[0m \u001b[38;5;28;01mreturn\u001b[39;00m df\n",
      "File \u001b[1;32mc:\\Users\\Kamil\\anaconda3\\Lib\\site-packages\\pandas\\core\\frame.py:3767\u001b[0m, in \u001b[0;36mDataFrame.__getitem__\u001b[1;34m(self, key)\u001b[0m\n\u001b[0;32m   3765\u001b[0m     \u001b[38;5;28;01mif\u001b[39;00m is_iterator(key):\n\u001b[0;32m   3766\u001b[0m         key \u001b[38;5;241m=\u001b[39m \u001b[38;5;28mlist\u001b[39m(key)\n\u001b[1;32m-> 3767\u001b[0m     indexer \u001b[38;5;241m=\u001b[39m \u001b[38;5;28mself\u001b[39m\u001b[38;5;241m.\u001b[39mcolumns\u001b[38;5;241m.\u001b[39m_get_indexer_strict(key, \u001b[38;5;124m\"\u001b[39m\u001b[38;5;124mcolumns\u001b[39m\u001b[38;5;124m\"\u001b[39m)[\u001b[38;5;241m1\u001b[39m]\n\u001b[0;32m   3769\u001b[0m \u001b[38;5;66;03m# take() does not accept boolean indexers\u001b[39;00m\n\u001b[0;32m   3770\u001b[0m \u001b[38;5;28;01mif\u001b[39;00m \u001b[38;5;28mgetattr\u001b[39m(indexer, \u001b[38;5;124m\"\u001b[39m\u001b[38;5;124mdtype\u001b[39m\u001b[38;5;124m\"\u001b[39m, \u001b[38;5;28;01mNone\u001b[39;00m) \u001b[38;5;241m==\u001b[39m \u001b[38;5;28mbool\u001b[39m:\n",
      "File \u001b[1;32mc:\\Users\\Kamil\\anaconda3\\Lib\\site-packages\\pandas\\core\\indexes\\base.py:5877\u001b[0m, in \u001b[0;36mIndex._get_indexer_strict\u001b[1;34m(self, key, axis_name)\u001b[0m\n\u001b[0;32m   5874\u001b[0m \u001b[38;5;28;01melse\u001b[39;00m:\n\u001b[0;32m   5875\u001b[0m     keyarr, indexer, new_indexer \u001b[38;5;241m=\u001b[39m \u001b[38;5;28mself\u001b[39m\u001b[38;5;241m.\u001b[39m_reindex_non_unique(keyarr)\n\u001b[1;32m-> 5877\u001b[0m \u001b[38;5;28mself\u001b[39m\u001b[38;5;241m.\u001b[39m_raise_if_missing(keyarr, indexer, axis_name)\n\u001b[0;32m   5879\u001b[0m keyarr \u001b[38;5;241m=\u001b[39m \u001b[38;5;28mself\u001b[39m\u001b[38;5;241m.\u001b[39mtake(indexer)\n\u001b[0;32m   5880\u001b[0m \u001b[38;5;28;01mif\u001b[39;00m \u001b[38;5;28misinstance\u001b[39m(key, Index):\n\u001b[0;32m   5881\u001b[0m     \u001b[38;5;66;03m# GH 42790 - Preserve name from an Index\u001b[39;00m\n",
      "File \u001b[1;32mc:\\Users\\Kamil\\anaconda3\\Lib\\site-packages\\pandas\\core\\indexes\\base.py:5941\u001b[0m, in \u001b[0;36mIndex._raise_if_missing\u001b[1;34m(self, key, indexer, axis_name)\u001b[0m\n\u001b[0;32m   5938\u001b[0m     \u001b[38;5;28;01mraise\u001b[39;00m \u001b[38;5;167;01mKeyError\u001b[39;00m(\u001b[38;5;124mf\u001b[39m\u001b[38;5;124m\"\u001b[39m\u001b[38;5;124mNone of [\u001b[39m\u001b[38;5;132;01m{\u001b[39;00mkey\u001b[38;5;132;01m}\u001b[39;00m\u001b[38;5;124m] are in the [\u001b[39m\u001b[38;5;132;01m{\u001b[39;00maxis_name\u001b[38;5;132;01m}\u001b[39;00m\u001b[38;5;124m]\u001b[39m\u001b[38;5;124m\"\u001b[39m)\n\u001b[0;32m   5940\u001b[0m not_found \u001b[38;5;241m=\u001b[39m \u001b[38;5;28mlist\u001b[39m(ensure_index(key)[missing_mask\u001b[38;5;241m.\u001b[39mnonzero()[\u001b[38;5;241m0\u001b[39m]]\u001b[38;5;241m.\u001b[39munique())\n\u001b[1;32m-> 5941\u001b[0m \u001b[38;5;28;01mraise\u001b[39;00m \u001b[38;5;167;01mKeyError\u001b[39;00m(\u001b[38;5;124mf\u001b[39m\u001b[38;5;124m\"\u001b[39m\u001b[38;5;132;01m{\u001b[39;00mnot_found\u001b[38;5;132;01m}\u001b[39;00m\u001b[38;5;124m not in index\u001b[39m\u001b[38;5;124m\"\u001b[39m)\n",
      "\u001b[1;31mKeyError\u001b[0m: \"['System_Core', 'Amazon_AWS', 'Container_Virtualization', 'Maintenance_Package_Management', 'Security_Monitoring', 'Utility_Misc'] not in index\""
     ]
    }
   ],
   "source": [
    "train_df= prepare_dataset_no_split(train_df)\n",
    "test_df= prepare_dataset_no_split(test_df)\n",
    "validation_df = prepare_dataset_no_split(validation_df)"
   ]
  },
  {
   "cell_type": "markdown",
   "metadata": {},
   "source": [
    "## Combine dataset"
   ]
  },
  {
   "cell_type": "code",
   "execution_count": 7,
   "metadata": {},
   "outputs": [],
   "source": [
    "full_dataset = pd.concat([train_df,test_df,validation_df],axis=0)"
   ]
  },
  {
   "cell_type": "code",
   "execution_count": 8,
   "metadata": {},
   "outputs": [
    {
     "data": {
      "text/plain": [
       "(1141078, 15)"
      ]
     },
     "execution_count": 8,
     "metadata": {},
     "output_type": "execute_result"
    }
   ],
   "source": [
    "full_dataset.shape"
   ]
  },
  {
   "cell_type": "code",
   "execution_count": 9,
   "metadata": {},
   "outputs": [
    {
     "data": {
      "text/html": [
       "<div>\n",
       "<style scoped>\n",
       "    .dataframe tbody tr th:only-of-type {\n",
       "        vertical-align: middle;\n",
       "    }\n",
       "\n",
       "    .dataframe tbody tr th {\n",
       "        vertical-align: top;\n",
       "    }\n",
       "\n",
       "    .dataframe thead th {\n",
       "        text-align: right;\n",
       "    }\n",
       "</style>\n",
       "<table border=\"1\" class=\"dataframe\">\n",
       "  <thead>\n",
       "    <tr style=\"text-align: right;\">\n",
       "      <th></th>\n",
       "      <th>processId</th>\n",
       "      <th>parentProcessId</th>\n",
       "      <th>userId</th>\n",
       "      <th>mountNamespace</th>\n",
       "      <th>eventId</th>\n",
       "      <th>argsNum</th>\n",
       "      <th>returnValue</th>\n",
       "      <th>System_Core</th>\n",
       "      <th>Amazon_AWS</th>\n",
       "      <th>Container_Virtualization</th>\n",
       "      <th>Maintenance_Package_Management</th>\n",
       "      <th>Security_Monitoring</th>\n",
       "      <th>Utility_Misc</th>\n",
       "      <th>sus</th>\n",
       "      <th>evil</th>\n",
       "    </tr>\n",
       "  </thead>\n",
       "  <tbody>\n",
       "    <tr>\n",
       "      <th>0</th>\n",
       "      <td>1</td>\n",
       "      <td>0</td>\n",
       "      <td>0</td>\n",
       "      <td>1</td>\n",
       "      <td>157</td>\n",
       "      <td>5</td>\n",
       "      <td>0</td>\n",
       "      <td>1</td>\n",
       "      <td>0</td>\n",
       "      <td>0</td>\n",
       "      <td>0</td>\n",
       "      <td>0</td>\n",
       "      <td>0</td>\n",
       "      <td>1</td>\n",
       "      <td>0</td>\n",
       "    </tr>\n",
       "    <tr>\n",
       "      <th>1</th>\n",
       "      <td>1</td>\n",
       "      <td>0</td>\n",
       "      <td>0</td>\n",
       "      <td>1</td>\n",
       "      <td>3</td>\n",
       "      <td>1</td>\n",
       "      <td>0</td>\n",
       "      <td>1</td>\n",
       "      <td>0</td>\n",
       "      <td>0</td>\n",
       "      <td>0</td>\n",
       "      <td>0</td>\n",
       "      <td>0</td>\n",
       "      <td>1</td>\n",
       "      <td>0</td>\n",
       "    </tr>\n",
       "    <tr>\n",
       "      <th>2</th>\n",
       "      <td>1</td>\n",
       "      <td>0</td>\n",
       "      <td>0</td>\n",
       "      <td>1</td>\n",
       "      <td>1010</td>\n",
       "      <td>0</td>\n",
       "      <td>0</td>\n",
       "      <td>1</td>\n",
       "      <td>0</td>\n",
       "      <td>0</td>\n",
       "      <td>0</td>\n",
       "      <td>0</td>\n",
       "      <td>0</td>\n",
       "      <td>1</td>\n",
       "      <td>0</td>\n",
       "    </tr>\n",
       "    <tr>\n",
       "      <th>3</th>\n",
       "      <td>1</td>\n",
       "      <td>1</td>\n",
       "      <td>0</td>\n",
       "      <td>0</td>\n",
       "      <td>21</td>\n",
       "      <td>2</td>\n",
       "      <td>2</td>\n",
       "      <td>0</td>\n",
       "      <td>0</td>\n",
       "      <td>0</td>\n",
       "      <td>0</td>\n",
       "      <td>0</td>\n",
       "      <td>1</td>\n",
       "      <td>1</td>\n",
       "      <td>0</td>\n",
       "    </tr>\n",
       "    <tr>\n",
       "      <th>4</th>\n",
       "      <td>1</td>\n",
       "      <td>1</td>\n",
       "      <td>0</td>\n",
       "      <td>0</td>\n",
       "      <td>1005</td>\n",
       "      <td>4</td>\n",
       "      <td>0</td>\n",
       "      <td>0</td>\n",
       "      <td>0</td>\n",
       "      <td>0</td>\n",
       "      <td>0</td>\n",
       "      <td>0</td>\n",
       "      <td>1</td>\n",
       "      <td>1</td>\n",
       "      <td>0</td>\n",
       "    </tr>\n",
       "  </tbody>\n",
       "</table>\n",
       "</div>"
      ],
      "text/plain": [
       "   processId  parentProcessId  userId  mountNamespace  eventId  argsNum  \\\n",
       "0          1                0       0               1      157        5   \n",
       "1          1                0       0               1        3        1   \n",
       "2          1                0       0               1     1010        0   \n",
       "3          1                1       0               0       21        2   \n",
       "4          1                1       0               0     1005        4   \n",
       "\n",
       "   returnValue  System_Core  Amazon_AWS  Container_Virtualization  \\\n",
       "0            0            1           0                         0   \n",
       "1            0            1           0                         0   \n",
       "2            0            1           0                         0   \n",
       "3            2            0           0                         0   \n",
       "4            0            0           0                         0   \n",
       "\n",
       "   Maintenance_Package_Management  Security_Monitoring  Utility_Misc  sus  \\\n",
       "0                               0                    0             0    1   \n",
       "1                               0                    0             0    1   \n",
       "2                               0                    0             0    1   \n",
       "3                               0                    0             1    1   \n",
       "4                               0                    0             1    1   \n",
       "\n",
       "   evil  \n",
       "0     0  \n",
       "1     0  \n",
       "2     0  \n",
       "3     0  \n",
       "4     0  "
      ]
     },
     "execution_count": 9,
     "metadata": {},
     "output_type": "execute_result"
    }
   ],
   "source": [
    "full_dataset.head()"
   ]
  },
  {
   "cell_type": "markdown",
   "metadata": {},
   "source": [
    "## Output CSV"
   ]
  },
  {
   "cell_type": "code",
   "execution_count": 10,
   "metadata": {},
   "outputs": [
    {
     "name": "stdout",
     "output_type": "stream",
     "text": [
      "c:\\Users\\klimczak\\Desktop\\FYP Final Files\\notebooks\\Preprocessing\n",
      "c:\\Users\\klimczak\\Desktop\\FYP Final Files\n"
     ]
    }
   ],
   "source": [
    "print(os.getcwd())\n",
    "relative_path = os.path.abspath(os.path.join(os.getcwd(), \"../../\"))\n",
    "print(relative_path)\n",
    "full_dataset.to_csv(relative_path+'/preprocessed_data/non_split_dataset_OHE/total_subset.csv', index=False)"
   ]
  },
  {
   "cell_type": "markdown",
   "metadata": {},
   "source": []
  }
 ],
 "metadata": {
  "kernelspec": {
   "display_name": "UMAP",
   "language": "python",
   "name": "python3"
  },
  "language_info": {
   "codemirror_mode": {
    "name": "ipython",
    "version": 3
   },
   "file_extension": ".py",
   "mimetype": "text/x-python",
   "name": "python",
   "nbconvert_exporter": "python",
   "pygments_lexer": "ipython3",
   "version": "3.11.7"
  }
 },
 "nbformat": 4,
 "nbformat_minor": 2
}
