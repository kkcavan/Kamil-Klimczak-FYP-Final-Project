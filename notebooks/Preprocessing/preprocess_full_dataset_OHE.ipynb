{
 "cells": [
  {
   "cell_type": "code",
   "execution_count": 8,
   "metadata": {},
   "outputs": [],
   "source": [
    "import os\n",
    "from sklearn import metrics\n",
    "import pandas as pd \n",
    "import seaborn as sns \n",
    "import matplotlib.pyplot as plt \n",
    "from sklearn.ensemble import IsolationForest\n",
    "from sklearn.metrics import f1_score, balanced_accuracy_score, roc_auc_score, precision_recall_fscore_support, classification_report\n",
    "\n",
    "from sklearn.metrics import confusion_matrix, accuracy_score\n",
    "from sklearn.metrics import average_precision_score, matthews_corrcoef\n",
    "import warnings\n",
    "warnings.filterwarnings('ignore')"
   ]
  },
  {
   "cell_type": "markdown",
   "metadata": {},
   "source": [
    "# Import data"
   ]
  },
  {
   "cell_type": "code",
   "execution_count": 9,
   "metadata": {},
   "outputs": [
    {
     "name": "stdout",
     "output_type": "stream",
     "text": [
      "c:\\Users\\klimczak\\Desktop\\FYP Final Files\\notebooks\\Preprocessing\n"
     ]
    }
   ],
   "source": [
    "print(os.getcwd())\n",
    "relative_path = os.path.abspath(os.path.join(os.getcwd(), \"../../\"))\n",
    "train_df = pd.read_csv(relative_path+'/data/labelled_training_data.csv')\n",
    "test_df = pd.read_csv(relative_path+'/data/labelled_testing_data.csv')\n",
    "validation_df = pd.read_csv(relative_path+'/data/labelled_validation_data.csv')"
   ]
  },
  {
   "cell_type": "markdown",
   "metadata": {},
   "source": [
    "# Helpers\n"
   ]
  },
  {
   "cell_type": "code",
   "execution_count": 10,
   "metadata": {},
   "outputs": [],
   "source": [
    "def prepare_dataset(df: pd.DataFrame) -> pd.DataFrame:\n",
    "    \"\"\"\n",
    "    Funcction that takes in a DataFrame and returns a modified DataFrame including data processing as stated by the author of https://www.gatsby.ucl.ac.uk/~balaji/udl2021/accepted-papers/UDL2021-paper-033.pdf\n",
    "    \"\"\"\n",
    "    \n",
    "    df[\"processId\"] = df[\"processId\"].map(lambda x: 0 if x in [0, 1, 2] else 1)  # Map to OS/not OS\n",
    "    df[\"parentProcessId\"] = df[\"parentProcessId\"].map(lambda x: 0 if x in [0, 1, 2] else 1)  # Map to OS/not OS\n",
    "    df[\"userId\"] = df[\"userId\"].map(lambda x: 0 if x < 1000 else 1)  # Map to OS/not OS\n",
    "    df[\"mountNamespace\"] = df[\"mountNamespace\"].map(lambda x: 0 if x == 4026531840 else 1)  # Map to mount access to mnt/ (all non-OS users) /elsewhere\n",
    "    df[\"eventId\"] = df[\"eventId\"]  # Keep eventId values (requires knowing max value)\n",
    "    df[\"returnValue\"] = df[\"returnValue\"].map(lambda x: 0 if x == 0 else (1 if x > 0 else 2))  # Map to success/success with value/error\n",
    "    \n",
    "    features = df[[\"processId\", \"parentProcessId\", \"userId\", \"mountNamespace\", \"eventId\", \"argsNum\", \"returnValue\",'System_Core','Amazon_AWS','Container_Virtualization','Maintenance_Package_Management','Security_Monitoring','Utility_Misc','sus','evil']]\n",
    "    labels = df[['sus','evil']]\n",
    "    \n",
    "    return features, labels"
   ]
  },
  {
   "cell_type": "code",
   "execution_count": 11,
   "metadata": {},
   "outputs": [],
   "source": [
    "def one_hot_process_names(dataset, process_name_column='processName'):\n",
    "    groupings = {\n",
    "        'System_Core': ['systemd', 'systemd-logind', 'systemd-journal', 'systemd-user-ru',\n",
    "                        'systemd-resolve', 'systemd-network', 'systemd-timesyn', 'systemd-udevd',\n",
    "                        'dbus-daemon', 'cron', 'kworker/dying', 'kworker/u30:1', 'kworker/u30:0',\n",
    "                        'kworker/u30:2', '(sd-pam)','close'],\n",
    "\n",
    "        'Amazon_AWS': ['amazon-ssm-agen', 'ssm-agent-worke'],\n",
    "\n",
    "        'Container_Virtualization': ['docker', 'dockerd', 'containerd-shim'],\n",
    "        \n",
    "        'Maintenance_Package_Management': ['run-parts', 'atd', 'snapd', 'packagekitd',\n",
    "                                           'systemd-tmpfile', '(tmpfiles)'],\n",
    "\n",
    "        'Security_Monitoring': ['sshd'],\n",
    "\n",
    "        'Utility_Misc': ['sh', 'ps', 'gdbus', 'gmain', 'journal-offline', '(time-dir)',\n",
    "                         '(sd-sync)', 'poweroff']\n",
    "    }\n",
    "\n",
    "    # one-hot encoding for each group\n",
    "    for group_name, processes in groupings.items():\n",
    "        dataset[group_name] = dataset[process_name_column].apply(lambda x: 1 if x in processes else 0)\n",
    "    return dataset"
   ]
  },
  {
   "cell_type": "markdown",
   "metadata": {},
   "source": [
    "## Apply preprocessing to datasets"
   ]
  },
  {
   "cell_type": "code",
   "execution_count": 12,
   "metadata": {},
   "outputs": [
    {
     "name": "stdout",
     "output_type": "stream",
     "text": [
      "(763144, 16)\n",
      "(188967, 16)\n",
      "(188967, 16)\n"
     ]
    }
   ],
   "source": [
    "print(train_df.shape)\n",
    "print(test_df.shape)\n",
    "print(validation_df.shape)"
   ]
  },
  {
   "cell_type": "code",
   "execution_count": 13,
   "metadata": {},
   "outputs": [],
   "source": [
    "train_df = one_hot_process_names(train_df)\n",
    "test_df = one_hot_process_names(test_df)\n",
    "validation_df = one_hot_process_names(validation_df)"
   ]
  },
  {
   "cell_type": "code",
   "execution_count": 14,
   "metadata": {},
   "outputs": [],
   "source": [
    "train_df_feats, train_df_labels = prepare_dataset(train_df)\n",
    "test_df_feats, test_df_labels = prepare_dataset(test_df)\n",
    "val_df_feats, val_df_labels = prepare_dataset(validation_df)"
   ]
  },
  {
   "cell_type": "code",
   "execution_count": 15,
   "metadata": {},
   "outputs": [
    {
     "name": "stdout",
     "output_type": "stream",
     "text": [
      "(763144, 15)\n",
      "(188967, 15)\n",
      "(188967, 15)\n"
     ]
    },
    {
     "data": {
      "text/html": [
       "<div>\n",
       "<style scoped>\n",
       "    .dataframe tbody tr th:only-of-type {\n",
       "        vertical-align: middle;\n",
       "    }\n",
       "\n",
       "    .dataframe tbody tr th {\n",
       "        vertical-align: top;\n",
       "    }\n",
       "\n",
       "    .dataframe thead th {\n",
       "        text-align: right;\n",
       "    }\n",
       "</style>\n",
       "<table border=\"1\" class=\"dataframe\">\n",
       "  <thead>\n",
       "    <tr style=\"text-align: right;\">\n",
       "      <th></th>\n",
       "      <th>processId</th>\n",
       "      <th>parentProcessId</th>\n",
       "      <th>userId</th>\n",
       "      <th>mountNamespace</th>\n",
       "      <th>eventId</th>\n",
       "      <th>argsNum</th>\n",
       "      <th>returnValue</th>\n",
       "      <th>System_Core</th>\n",
       "      <th>Amazon_AWS</th>\n",
       "      <th>Container_Virtualization</th>\n",
       "      <th>Maintenance_Package_Management</th>\n",
       "      <th>Security_Monitoring</th>\n",
       "      <th>Utility_Misc</th>\n",
       "      <th>sus</th>\n",
       "      <th>evil</th>\n",
       "    </tr>\n",
       "  </thead>\n",
       "  <tbody>\n",
       "    <tr>\n",
       "      <th>0</th>\n",
       "      <td>1</td>\n",
       "      <td>0</td>\n",
       "      <td>0</td>\n",
       "      <td>1</td>\n",
       "      <td>157</td>\n",
       "      <td>5</td>\n",
       "      <td>0</td>\n",
       "      <td>1</td>\n",
       "      <td>0</td>\n",
       "      <td>0</td>\n",
       "      <td>0</td>\n",
       "      <td>0</td>\n",
       "      <td>0</td>\n",
       "      <td>1</td>\n",
       "      <td>0</td>\n",
       "    </tr>\n",
       "    <tr>\n",
       "      <th>1</th>\n",
       "      <td>1</td>\n",
       "      <td>0</td>\n",
       "      <td>0</td>\n",
       "      <td>1</td>\n",
       "      <td>3</td>\n",
       "      <td>1</td>\n",
       "      <td>0</td>\n",
       "      <td>1</td>\n",
       "      <td>0</td>\n",
       "      <td>0</td>\n",
       "      <td>0</td>\n",
       "      <td>0</td>\n",
       "      <td>0</td>\n",
       "      <td>1</td>\n",
       "      <td>0</td>\n",
       "    </tr>\n",
       "    <tr>\n",
       "      <th>2</th>\n",
       "      <td>1</td>\n",
       "      <td>0</td>\n",
       "      <td>0</td>\n",
       "      <td>1</td>\n",
       "      <td>1010</td>\n",
       "      <td>0</td>\n",
       "      <td>0</td>\n",
       "      <td>1</td>\n",
       "      <td>0</td>\n",
       "      <td>0</td>\n",
       "      <td>0</td>\n",
       "      <td>0</td>\n",
       "      <td>0</td>\n",
       "      <td>1</td>\n",
       "      <td>0</td>\n",
       "    </tr>\n",
       "    <tr>\n",
       "      <th>3</th>\n",
       "      <td>1</td>\n",
       "      <td>1</td>\n",
       "      <td>0</td>\n",
       "      <td>0</td>\n",
       "      <td>21</td>\n",
       "      <td>2</td>\n",
       "      <td>2</td>\n",
       "      <td>0</td>\n",
       "      <td>0</td>\n",
       "      <td>0</td>\n",
       "      <td>0</td>\n",
       "      <td>0</td>\n",
       "      <td>1</td>\n",
       "      <td>1</td>\n",
       "      <td>0</td>\n",
       "    </tr>\n",
       "    <tr>\n",
       "      <th>4</th>\n",
       "      <td>1</td>\n",
       "      <td>1</td>\n",
       "      <td>0</td>\n",
       "      <td>0</td>\n",
       "      <td>1005</td>\n",
       "      <td>4</td>\n",
       "      <td>0</td>\n",
       "      <td>0</td>\n",
       "      <td>0</td>\n",
       "      <td>0</td>\n",
       "      <td>0</td>\n",
       "      <td>0</td>\n",
       "      <td>1</td>\n",
       "      <td>1</td>\n",
       "      <td>0</td>\n",
       "    </tr>\n",
       "  </tbody>\n",
       "</table>\n",
       "</div>"
      ],
      "text/plain": [
       "   processId  parentProcessId  userId  mountNamespace  eventId  argsNum  \\\n",
       "0          1                0       0               1      157        5   \n",
       "1          1                0       0               1        3        1   \n",
       "2          1                0       0               1     1010        0   \n",
       "3          1                1       0               0       21        2   \n",
       "4          1                1       0               0     1005        4   \n",
       "\n",
       "   returnValue  System_Core  Amazon_AWS  Container_Virtualization  \\\n",
       "0            0            1           0                         0   \n",
       "1            0            1           0                         0   \n",
       "2            0            1           0                         0   \n",
       "3            2            0           0                         0   \n",
       "4            0            0           0                         0   \n",
       "\n",
       "   Maintenance_Package_Management  Security_Monitoring  Utility_Misc  sus  \\\n",
       "0                               0                    0             0    1   \n",
       "1                               0                    0             0    1   \n",
       "2                               0                    0             0    1   \n",
       "3                               0                    0             1    1   \n",
       "4                               0                    0             1    1   \n",
       "\n",
       "   evil  \n",
       "0     0  \n",
       "1     0  \n",
       "2     0  \n",
       "3     0  \n",
       "4     0  "
      ]
     },
     "execution_count": 15,
     "metadata": {},
     "output_type": "execute_result"
    }
   ],
   "source": [
    "print(train_df_feats.shape)\n",
    "print(test_df_feats.shape)\n",
    "print(val_df_feats.shape)\n",
    "train_df_feats.head()"
   ]
  },
  {
   "cell_type": "markdown",
   "metadata": {},
   "source": [
    "# Output CSV's "
   ]
  },
  {
   "cell_type": "code",
   "execution_count": 16,
   "metadata": {},
   "outputs": [
    {
     "name": "stdout",
     "output_type": "stream",
     "text": [
      "c:\\Users\\klimczak\\Desktop\\FYP Final Files\\notebooks\\Preprocessing\n",
      "c:\\Users\\klimczak\\Desktop\\FYP Final Files\\notebooks\\Preprocessing\n"
     ]
    }
   ],
   "source": [
    "print(os.getcwd())\n",
    "# os.chdir('A:/Desktop/Kamil_Klimczak_FYP/preprocessed_data/full_dataset')\n",
    "relative_path = os.path.abspath(os.path.join(os.getcwd(), \"../../\"))\n",
    "print(os.getcwd())\n",
    "train_df_feats.to_csv(relative_path+'/preprocessed_data/full_dataset_train_test_val_OHE/full_train_df_feats_OHE.csv', index=False)\n",
    "train_df_labels.to_csv(relative_path+'/preprocessed_data/full_dataset_train_test_val_OHE/full_train_df_labels_OHE.csv', index=False)\n",
    "\n",
    "test_df_feats.to_csv(relative_path+'/preprocessed_data/full_dataset_train_test_val_OHE/full_test_df_feats_OHE.csv', index=False)\n",
    "test_df_labels.to_csv(relative_path+'/preprocessed_data/full_dataset_train_test_val_OHE/full_test_df_labels_OHE.csv', index=False)\n",
    "\n",
    "val_df_feats.to_csv(relative_path+'/preprocessed_data/full_dataset_train_test_val_OHE/full_val_df_feats_OHE.csv', index=False)\n",
    "val_df_labels.to_csv(relative_path+'/preprocessed_data/full_dataset_train_test_val_OHE/full_val_df_labels_OHE.csv', index=False)"
   ]
  }
 ],
 "metadata": {
  "kernelspec": {
   "display_name": "UMAP",
   "language": "python",
   "name": "python3"
  },
  "language_info": {
   "codemirror_mode": {
    "name": "ipython",
    "version": 3
   },
   "file_extension": ".py",
   "mimetype": "text/x-python",
   "name": "python",
   "nbconvert_exporter": "python",
   "pygments_lexer": "ipython3",
   "version": "3.11.8"
  }
 },
 "nbformat": 4,
 "nbformat_minor": 2
}
